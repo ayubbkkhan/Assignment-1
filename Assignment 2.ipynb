{
 "cells": [
  {
   "cell_type": "code",
   "execution_count": 1,
   "metadata": {},
   "outputs": [
    {
     "name": "stdout",
     "output_type": "stream",
     "text": [
      "The original list is : [11, 9, 5, [], 3, [], [], 9]\n",
      "List after empty list removal : [11, 9, 5, 3, 9]\n"
     ]
    }
   ],
   "source": [
    "#1. To remove empty list from a list\n",
    "original = [11, 9, 5, [],3, [], [], 9] \n",
    "  \n",
    "print(\"The original list is : \" + str(original)) \n",
    "  \n",
    "res = list(filter(None, original)) \n",
    "  \n",
    "print (\"List after empty list removal : \" + str(res)) "
   ]
  },
  {
   "cell_type": "code",
   "execution_count": 9,
   "metadata": {},
   "outputs": [
    {
     "name": "stdout",
     "output_type": "stream",
     "text": [
      "Enter the sentence:Lets learn to love to learn python\n",
      "Duplicate words in a given string : \n",
      "learn\n",
      "to\n"
     ]
    }
   ],
   "source": [
    "#2. Printing duplicate words in a sentence\n",
    "\n",
    "a= input('Enter the sentence:')\n",
    "a = a.lower() \n",
    "    \n",
    "words = a.split(\" \") \n",
    "   \n",
    "print(\"Duplicate words in a given string : \")  \n",
    "for i in range(0, len(words)):  \n",
    "    count = 1;  \n",
    "    for j in range(i+1, len(words)):  \n",
    "        if(words[i] == (words[j])):  \n",
    "            count = count + 1   \n",
    "            words[j] = '0' \n",
    "              \n",
    "    #Displays the duplicate word if count is greater than 1  \n",
    "    if(count > 1 and words[i] != '0'):  \n",
    "        print(words[i])  "
   ]
  },
  {
   "cell_type": "code",
   "execution_count": 7,
   "metadata": {},
   "outputs": [
    {
     "name": "stdout",
     "output_type": "stream",
     "text": [
      "Please enter your own String : i love my country\n",
      "Please enter your own Character : o\n",
      "o  is Found at Position  4\n",
      "o  is Found at Position  12\n"
     ]
    }
   ],
   "source": [
    "# Python Program to find Occurrence of a Character in a String\n",
    "\n",
    "str1 = input(\"Please enter your own String : \")\n",
    "ch = input(\"Please enter your own Character : \")\n",
    "\n",
    "for i in range(len(str1)):\n",
    "    if(str1[i] == ch ):\n",
    "        print(ch, \" is Found at Position \" , i + 1)"
   ]
  },
  {
   "cell_type": "code",
   "execution_count": null,
   "metadata": {},
   "outputs": [],
   "source": []
  }
 ],
 "metadata": {
  "kernelspec": {
   "display_name": "Python 3",
   "language": "python",
   "name": "python3"
  },
  "language_info": {
   "codemirror_mode": {
    "name": "ipython",
    "version": 3
   },
   "file_extension": ".py",
   "mimetype": "text/x-python",
   "name": "python",
   "nbconvert_exporter": "python",
   "pygments_lexer": "ipython3",
   "version": "3.8.3"
  }
 },
 "nbformat": 4,
 "nbformat_minor": 4
}
