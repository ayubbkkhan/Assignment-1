{
 "cells": [
  {
   "cell_type": "code",
   "execution_count": 8,
   "metadata": {},
   "outputs": [],
   "source": [
    "#1. Merging two files\n",
    "data = data2 = \"\" \n",
    "  \n",
    "# Reading data from File1 \n",
    "with open('C:/KK/File1.txt') as fp: \n",
    "    data = fp.read() \n",
    "  \n",
    "with open('C:/KK/File2.txt') as fp: \n",
    "    data2 = fp.read() \n",
    "  \n",
    "data += \"\\n\"\n",
    "data += data2 \n",
    "  #writing in 3rd file\n",
    "with open ('C:/KK/file3.txt', 'w') as fp: \n",
    "    fp.write(data) "
   ]
  },
  {
   "cell_type": "code",
   "execution_count": 2,
   "metadata": {},
   "outputs": [
    {
     "name": "stdout",
     "output_type": "stream",
     "text": [
      "Original key list is : [1, 2, 3, 4, 5]\n",
      "Original value list is : ['a', 'b', 'c', 'd', 'e']\n",
      "Resultant dictionary is : {1: 'a', 2: 'b', 3: 'c', 4: 'd', 5: 'e'}\n"
     ]
    }
   ],
   "source": [
    "list1 = [1,2,3,4,5] \n",
    "list2 = ['a','b','c','d','e'] \n",
    "  \n",
    "print (\"Original key list is : \" + str(list1)) \n",
    "print (\"Original value list is : \" + str(list2)) \n",
    "  \n",
    "res = {list1[i]: list2[i] for i in range(len(list1))} \n",
    "  \n",
    "# Printing resultant dictionary  \n",
    "print (\"Resultant dictionary is : \" +  str(res)) "
   ]
  }
 ],
 "metadata": {
  "kernelspec": {
   "display_name": "Python 3",
   "language": "python",
   "name": "python3"
  },
  "language_info": {
   "codemirror_mode": {
    "name": "ipython",
    "version": 3
   },
   "file_extension": ".py",
   "mimetype": "text/x-python",
   "name": "python",
   "nbconvert_exporter": "python",
   "pygments_lexer": "ipython3",
   "version": "3.8.3"
  }
 },
 "nbformat": 4,
 "nbformat_minor": 4
}
